{
  "nbformat": 4,
  "nbformat_minor": 0,
  "metadata": {
    "colab": {
      "provenance": []
    },
    "kernelspec": {
      "name": "python3",
      "display_name": "Python 3"
    },
    "language_info": {
      "name": "python"
    }
  },
  "cells": [
    {
      "cell_type": "markdown",
      "source": [],
      "metadata": {
        "id": "IYPCvYrBS994"
      }
    },
    {
      "cell_type": "markdown",
      "source": [
        "1 - Discuss string slicing and provide examples?\n",
        "\n",
        "ANS- String slicing in Python is a technique used to access a subset of characters from a string. This is done by specifying a range of indices.\n",
        "\n"
      ],
      "metadata": {
        "id": "QL13scWATABm"
      }
    },
    {
      "cell_type": "code",
      "source": [
        "s = \"Hello, World!\"\n",
        "substring = s[0:5]\n",
        "print(substring)\n",
        "#AS the slicing done till 5 only hello prints"
      ],
      "metadata": {
        "colab": {
          "base_uri": "https://localhost:8080/"
        },
        "id": "uS8iLTWoToN-",
        "outputId": "3f1452b5-6e9f-47b1-cb9c-bed917c26ecf"
      },
      "execution_count": 2,
      "outputs": [
        {
          "output_type": "stream",
          "name": "stdout",
          "text": [
            "Hello\n"
          ]
        }
      ]
    },
    {
      "cell_type": "code",
      "source": [
        "s = \"Hello, World!\"\n",
        "sn= s[:5]\n",
        "sl= s[7:]\n",
        "print(sn)\n",
        "print(sl)"
      ],
      "metadata": {
        "colab": {
          "base_uri": "https://localhost:8080/"
        },
        "id": "rNMzLwKlUTIY",
        "outputId": "c5c1bb36-cdc8-46e3-8fe4-7db9acd7a7a4"
      },
      "execution_count": 3,
      "outputs": [
        {
          "output_type": "stream",
          "name": "stdout",
          "text": [
            "Hello\n",
            "World!\n"
          ]
        }
      ]
    },
    {
      "cell_type": "code",
      "source": [
        "s = \"Hello, World!\"\n",
        "l = s[-4]\n",
        "print(l)\n",
        "\n",
        "s = \"Hello, World!\"\n",
        "custom_slice = s[2:9:2]\n",
        "print(custom_slice)\n"
      ],
      "metadata": {
        "colab": {
          "base_uri": "https://localhost:8080/"
        },
        "id": "StPBMdgxUXuc",
        "outputId": "468fe7a3-1b10-4193-c179-c2225792e46d"
      },
      "execution_count": 4,
      "outputs": [
        {
          "output_type": "stream",
          "name": "stdout",
          "text": [
            "r\n",
            "lo o\n"
          ]
        }
      ]
    },
    {
      "cell_type": "markdown",
      "source": [
        "2 - Explain the key features of lists in Python?\n",
        "\n",
        "ANS-Lists in Python are one of the most versatile and commonly used data structures. They are ordered, mutable, and can hold a variety of object types. The key features of lists is Ordered,Mutable,Dynamic,Heterogeneous,indexing and Slicing,Built-in Functions and Methods, etc.\n",
        "\n",
        "Ordered Collection - Lists maintain the order of items. The order in which elements are added is preserved.Each element in a list has a specific index, starting from 0.\n",
        "\n",
        "Mutable - Lists can be modified after their creation. Elements can be added, removed, or changed.This is different from tuples, which are immutable.\n",
        "\n",
        "Dynamic - Lists can grow or shrink in size. You can add or remove elements as needed.\n",
        "\n",
        "Heterogeneous Elements - A list can contain elements of different data types, including integers, strings, floats, objects, and even other lists."
      ],
      "metadata": {
        "id": "gTG1CQ2LUkQk"
      }
    },
    {
      "cell_type": "markdown",
      "source": [
        "3 - Describe how to access, modify and delete elements in a list with examples?\n",
        "\n",
        "ANS- (Access) In Python, you can access elements in a list using indexing and slicing.\n",
        "\n",
        "Indexing - Indexing allows you to access individual elements by their position. Indices start at 0 for the first element and increase by 1 for each subsequent element.\n",
        "\n",
        "Slicing - Slicing allows you to access a range of elements.where start is the index of the first element to include, and stop is the index of the first element to exclude.\n",
        "\n",
        "Modify - Modifying elements in a list in Python can be done in several ways, including changing individual elements, modifying multiple elements at once, and using list comprehensions.\n",
        "\n",
        "Delete - Deleting elements in a list can be done using various methods in Python, including the del statement, the remove() method, and the pop() method.\n",
        "\n",
        "\n",
        "\n"
      ],
      "metadata": {
        "id": "AWr9KEOdU6UY"
      }
    },
    {
      "cell_type": "code",
      "source": [
        "#indexing\n",
        "my_list = [10, 20, 30, 40, 50]\n",
        "a = my_list[0]\n",
        "b = my_list[2]\n",
        "\n",
        "print(a)\n",
        "print(b)\n",
        ""
      ],
      "metadata": {
        "colab": {
          "base_uri": "https://localhost:8080/"
        },
        "id": "9-E_D2cxVJR9",
        "outputId": "e2d9df75-154c-482d-bbe3-6eb861577d8c"
      },
      "execution_count": 5,
      "outputs": [
        {
          "output_type": "stream",
          "name": "stdout",
          "text": [
            "10\n",
            "30\n"
          ]
        }
      ]
    },
    {
      "cell_type": "code",
      "source": [
        "#slicing\n",
        "my_list = [10, 20, 30, 40, 50]\n",
        "a = my_list[0:5]\n",
        "b = my_list[2:-2]\n",
        "\n",
        "print(a)\n",
        "print(b)"
      ],
      "metadata": {
        "colab": {
          "base_uri": "https://localhost:8080/"
        },
        "id": "EbLa8opFVMs8",
        "outputId": "b1facbda-b3fd-484f-e987-dbbb477cb186"
      },
      "execution_count": 6,
      "outputs": [
        {
          "output_type": "stream",
          "name": "stdout",
          "text": [
            "[10, 20, 30, 40, 50]\n",
            "[30]\n"
          ]
        }
      ]
    },
    {
      "cell_type": "code",
      "source": [
        "#modify\n",
        "my_list = [10, 20, 30, 40, 50]\n",
        "my_list[1] = 25\n",
        "print(my_list)\n",
        "\n"
      ],
      "metadata": {
        "colab": {
          "base_uri": "https://localhost:8080/"
        },
        "id": "3r2tCm5tVSLj",
        "outputId": "567f9c5a-1ecf-478e-fc4b-3ce7ae7becc9"
      },
      "execution_count": 7,
      "outputs": [
        {
          "output_type": "stream",
          "name": "stdout",
          "text": [
            "[10, 25, 30, 40, 50]\n"
          ]
        }
      ]
    },
    {
      "cell_type": "code",
      "source": [
        "#delete\n",
        "my_list = [10, 20, 30, 40, 50]\n",
        "del my_list[2]\n",
        "print(my_list)\n",
        ""
      ],
      "metadata": {
        "colab": {
          "base_uri": "https://localhost:8080/"
        },
        "id": "yow2OXSYVWnr",
        "outputId": "1238ddf5-bbac-4223-e41d-9b6952ea13fd"
      },
      "execution_count": 8,
      "outputs": [
        {
          "output_type": "stream",
          "name": "stdout",
          "text": [
            "[10, 20, 40, 50]\n"
          ]
        }
      ]
    },
    {
      "cell_type": "code",
      "source": [
        "#remove\n",
        "my_list = [10, 20, 30, 40, 50]\n",
        "my_list.remove(30)\n",
        "print(my_list)\n",
        "\n"
      ],
      "metadata": {
        "colab": {
          "base_uri": "https://localhost:8080/"
        },
        "id": "EYoOnn1JVZ7z",
        "outputId": "8f41dad5-ede8-46b0-bc92-bc3a436cf505"
      },
      "execution_count": 9,
      "outputs": [
        {
          "output_type": "stream",
          "name": "stdout",
          "text": [
            "[10, 20, 40, 50]\n"
          ]
        }
      ]
    },
    {
      "cell_type": "code",
      "source": [
        "#pop\n",
        "my_list = [10, 20, 30, 40, 50]\n",
        "last_element = my_list.pop()\n",
        "print(last_element)\n",
        "print(my_list)"
      ],
      "metadata": {
        "colab": {
          "base_uri": "https://localhost:8080/"
        },
        "id": "n0eFAY7pVczr",
        "outputId": "ff74f7b5-5144-4db7-c511-ef44d5aeb93f"
      },
      "execution_count": 10,
      "outputs": [
        {
          "output_type": "stream",
          "name": "stdout",
          "text": [
            "50\n",
            "[10, 20, 30, 40]\n"
          ]
        }
      ]
    },
    {
      "cell_type": "markdown",
      "source": [
        "4 - Compare and contrast tuples and lists with examples?\n",
        "\n",
        "ANS-Similarities - Ordered - Both tuples and lists maintain the order of elements. Indexing: Elements in both tuples and lists can be accessed using indexing and slicing. Heterogeneous: Both can store elements of different data types Iterability: Both can be iterated over using loops.\n",
        "\n",
        "Differences Mutability - Lists are mutable, meaning their elements can be changed after creation. Tuples are immutable, meaning once created, their elements cannot be changed. List are enclosed with square brackets [],whereas tuple are enclosed with parentheses ()"
      ],
      "metadata": {
        "id": "WEathDx4Vjmf"
      }
    },
    {
      "cell_type": "code",
      "source": [
        "#list\n",
        "my_list = [1, 2, 3, 4]\n",
        "print(my_list)\n",
        "\n",
        "# Modifying the list\n",
        "my_list[0] = 10\n",
        "print(my_list)\n",
        "\n",
        "# Adding an element\n",
        "my_list.append(5)\n",
        "print(my_list)\n",
        "\n",
        "# Removing an element\n",
        "my_list.remove(3)\n",
        "print(my_list)"
      ],
      "metadata": {
        "colab": {
          "base_uri": "https://localhost:8080/"
        },
        "id": "tAIvpMMvVsV7",
        "outputId": "c0c13806-29c6-4d1c-ab74-9e5f360e7395"
      },
      "execution_count": 11,
      "outputs": [
        {
          "output_type": "stream",
          "name": "stdout",
          "text": [
            "[1, 2, 3, 4]\n",
            "[10, 2, 3, 4]\n",
            "[10, 2, 3, 4, 5]\n",
            "[10, 2, 4, 5]\n"
          ]
        }
      ]
    },
    {
      "cell_type": "code",
      "source": [
        "#tuple\n",
        "my_tuple = (1, 2, 3, 4)\n",
        "print(my_tuple)\n",
        "\n",
        "# Tuples support indexing and slicing\n",
        "print(my_tuple[0])\n",
        "print(my_tuple[1:3])\n",
        "\n",
        "# Counting and finding elements\n",
        "print(my_tuple.count(2))\n",
        "print( my_tuple.index(3))"
      ],
      "metadata": {
        "colab": {
          "base_uri": "https://localhost:8080/"
        },
        "id": "Y-koe2GOVwkM",
        "outputId": "c7c0e2cb-d5f1-474e-d9c6-0e2af59492e0"
      },
      "execution_count": 12,
      "outputs": [
        {
          "output_type": "stream",
          "name": "stdout",
          "text": [
            "(1, 2, 3, 4)\n",
            "1\n",
            "(2, 3)\n",
            "1\n",
            "2\n"
          ]
        }
      ]
    },
    {
      "cell_type": "markdown",
      "source": [
        "5 - Describe the key features of sets and provide examples of their use?\n",
        "\n",
        "ANS- key features of sets are:\n",
        "\n",
        "Unordered: Elements in a set do not have a defined order.\n",
        "\n",
        "Unique Elements: Sets do not allow duplicate elements.\n",
        "\n",
        "Mutable: Sets are mutable, meaning you can add or remove elements.\n",
        "\n",
        "Heterogeneous: Sets can contain elements of different types, but all elements must be hashable."
      ],
      "metadata": {
        "id": "OI4VvrFeV-Jl"
      }
    },
    {
      "cell_type": "code",
      "source": [
        "#set\n",
        "my_set = {1, 2, 3, 4, 5}\n",
        "print(my_set)\n",
        "\n",
        "another_set = set([1, 2, 3, 4, 5])\n",
        "print(another_set)"
      ],
      "metadata": {
        "colab": {
          "base_uri": "https://localhost:8080/"
        },
        "id": "FNFgMmI7WHDL",
        "outputId": "071c047b-e341-4bae-ba89-85c46f6270f9"
      },
      "execution_count": 13,
      "outputs": [
        {
          "output_type": "stream",
          "name": "stdout",
          "text": [
            "{1, 2, 3, 4, 5}\n",
            "{1, 2, 3, 4, 5}\n"
          ]
        }
      ]
    },
    {
      "cell_type": "code",
      "source": [
        "my_set = {1, 2, 3}\n",
        "\n",
        "# Adding an element\n",
        "my_set.add(4)\n",
        "print(my_set)\n",
        "\n",
        "# Removing an element\n",
        "my_set.remove(2)\n",
        "print(my_set)\n",
        "\n",
        "# Discarding an element (won't raise an error if the element is not present)\n",
        "my_set.discard(5)\n",
        "print(my_set)\n",
        "\n",
        "# Removing and returning an arbitrary element\n",
        "removed_element = my_set.pop()\n",
        "print(removed_element)\n",
        "print(my_set)\n",
        "\n",
        "# Clearing all elements\n",
        "my_set.clear()\n",
        "print(my_set)"
      ],
      "metadata": {
        "colab": {
          "base_uri": "https://localhost:8080/"
        },
        "id": "2JTE0oLMWRyd",
        "outputId": "0dcb04bc-c32e-4315-c344-74a25ff25ecd"
      },
      "execution_count": 14,
      "outputs": [
        {
          "output_type": "stream",
          "name": "stdout",
          "text": [
            "{1, 2, 3, 4}\n",
            "{1, 3, 4}\n",
            "{1, 3, 4}\n",
            "1\n",
            "{3, 4}\n",
            "set()\n"
          ]
        }
      ]
    },
    {
      "cell_type": "markdown",
      "source": [
        "6 - Discuss the use cases of tuples and sets in Python programming?\n",
        "\n",
        "ANS - Tuples and sets are both essential data structures in Python, each serving specific purposes due to their unique properties."
      ],
      "metadata": {
        "id": "SjNOWvN-WgUC"
      }
    },
    {
      "cell_type": "code",
      "source": [
        "#set\n",
        "set1 = {1, 2, 3}\n",
        "set2 = {3, 4, 5}\n",
        "\n",
        "union = set1.union(set2)\n",
        "print(union)\n",
        "\n",
        "intersection = set1.intersection(set2)\n",
        "print(intersection)\n",
        "\n",
        "difference = set1.difference(set2)\n",
        "print(difference)\n",
        "\n",
        "symmetric_difference = set1.symmetric_difference(set2)\n",
        "print(symmetric_difference)\n",
        "\n",
        "\n",
        "#tuple\n",
        "thistuple = (\"apple\", \"banana\", \"cherry\", \"orange\", \"kiwi\", \"melon\", \"mango\")\n",
        "print(thistuple[2:5])\n",
        "\n",
        "thistuple = (\"apple\", \"banana\", \"cherry\")\n",
        "y = (\"orange\",)\n",
        "thistuple += y\n",
        "\n",
        "print(thistuple)\n",
        "\n",
        "\n",
        "x = (\"apple\", \"banana\", \"cherry\")\n",
        "y = list(x)\n",
        "y[1] = \"kiwi\"\n",
        "x = tuple(y)\n",
        "\n",
        "print(x)"
      ],
      "metadata": {
        "colab": {
          "base_uri": "https://localhost:8080/"
        },
        "id": "HoiXc2a0WllI",
        "outputId": "cf3f1cd5-43ac-4a89-f1c5-831b782e67bc"
      },
      "execution_count": 15,
      "outputs": [
        {
          "output_type": "stream",
          "name": "stdout",
          "text": [
            "{1, 2, 3, 4, 5}\n",
            "{3}\n",
            "{1, 2}\n",
            "{1, 2, 4, 5}\n",
            "('cherry', 'orange', 'kiwi')\n",
            "('apple', 'banana', 'cherry', 'orange')\n",
            "('apple', 'kiwi', 'cherry')\n"
          ]
        }
      ]
    },
    {
      "cell_type": "markdown",
      "source": [],
      "metadata": {
        "id": "fuLf2i_vWyqG"
      }
    },
    {
      "cell_type": "markdown",
      "source": [
        "7 - Describe how to add, modify and delete items in a dictionary with examples?\n",
        "\n",
        "ANS - Dictionaries in Python are collections of key-value pairs where each key is unique. They are mutable, allowing for the addition, modification, and deletion of items."
      ],
      "metadata": {
        "id": "DQIrvdS6W4uG"
      }
    },
    {
      "cell_type": "code",
      "source": [
        "my_dict = {}\n",
        "\n",
        "# Adding items\n",
        "my_dict['name'] = 'Alice'\n",
        "my_dict['age'] = 30\n",
        "my_dict['city'] = 'New York'\n",
        "print(my_dict)\n",
        "\n",
        "# Using update\n",
        "my_dict.update({'country': 'USA', 'occupation': 'Engineer'})\n",
        "print(my_dict)\n",
        "\n",
        "# Modifying items\n",
        "my_dict['age'] = 31\n",
        "my_dict['city'] = 'Los Angeles'\n",
        "print(my_dict)"
      ],
      "metadata": {
        "colab": {
          "base_uri": "https://localhost:8080/"
        },
        "id": "734DnWsuW-3C",
        "outputId": "959740fc-053f-4c00-c6c3-6f0491b86a6e"
      },
      "execution_count": 16,
      "outputs": [
        {
          "output_type": "stream",
          "name": "stdout",
          "text": [
            "{'name': 'Alice', 'age': 30, 'city': 'New York'}\n",
            "{'name': 'Alice', 'age': 30, 'city': 'New York', 'country': 'USA', 'occupation': 'Engineer'}\n",
            "{'name': 'Alice', 'age': 31, 'city': 'Los Angeles', 'country': 'USA', 'occupation': 'Engineer'}\n"
          ]
        }
      ]
    },
    {
      "cell_type": "code",
      "source": [
        "# Deleting a specific item\n",
        "my_dict['name'] = 'Alice'\n",
        "my_dict['age'] = 30\n",
        "my_dict['city'] = 'New York'\n",
        "del my_dict['city']\n",
        "\n",
        "print(my_dict)\n",
        "\n",
        "\n",
        "# Deleting all items\n",
        "my_dict.clear()\n",
        "\n",
        "print(my_dict)\n",
        ""
      ],
      "metadata": {
        "colab": {
          "base_uri": "https://localhost:8080/"
        },
        "id": "Xi-QUpYvXDuk",
        "outputId": "cfe8e82c-5d93-4c1f-e4ec-d154ec675b53"
      },
      "execution_count": 17,
      "outputs": [
        {
          "output_type": "stream",
          "name": "stdout",
          "text": [
            "{'name': 'Alice', 'age': 30, 'country': 'USA', 'occupation': 'Engineer'}\n",
            "{}\n"
          ]
        }
      ]
    },
    {
      "cell_type": "markdown",
      "source": [],
      "metadata": {
        "id": "RM9sUEGGXQ29"
      }
    },
    {
      "cell_type": "markdown",
      "source": [
        "8 - Discuss the importance of dictionary keys being immutable and provide examples?\n",
        "\n",
        "ANS - In Python, dictionary keys must be immutable because immutability ensures that the key remains constant throughout the lifetime of the dictionary\n",
        "\n",
        "Importance of Immutable Keys Hash Consistency- Dictionary keys are hashed to quickly locate the associated values.Immutable objects have a fixed hash value that remains constant during their lifetime, which allows the dictionary to efficiently retrieve values.\n",
        "\n",
        "Data Integrity- Immutability guarantees that the key will not be altered, preserving the integrity of the dictionary's internal structure. This ensures that the key-value mappings are stable and reliable.\n",
        "\n",
        "Immutable Keys are Strings,Tuples,Integers and Floats."
      ],
      "metadata": {
        "id": "n3nd7skUXSuk"
      }
    },
    {
      "cell_type": "markdown",
      "source": [],
      "metadata": {
        "id": "W4vcMfDKYSTr"
      }
    },
    {
      "cell_type": "code",
      "source": [
        "#string\n",
        "my_dict = {'name': 'Alice', 'age': 30}\n",
        "print(my_dict['name'])"
      ],
      "metadata": {
        "colab": {
          "base_uri": "https://localhost:8080/"
        },
        "id": "1BDB8bXmXYRK",
        "outputId": "ca08bfbd-4c29-431f-ac11-40ff126a28ba"
      },
      "execution_count": 18,
      "outputs": [
        {
          "output_type": "stream",
          "name": "stdout",
          "text": [
            "Alice\n"
          ]
        }
      ]
    },
    {
      "cell_type": "code",
      "source": [
        "#tuple\n",
        "my_dict = {('x', 1): 'hello', ('y', 2): 'world'}\n",
        "print(my_dict[('x', 1)])"
      ],
      "metadata": {
        "colab": {
          "base_uri": "https://localhost:8080/"
        },
        "id": "5zOQBw1ZXceV",
        "outputId": "c97c6928-0666-4bce-9911-bdcc63490cda"
      },
      "execution_count": 24,
      "outputs": [
        {
          "output_type": "stream",
          "name": "stdout",
          "text": [
            "hello\n"
          ]
        }
      ]
    },
    {
      "cell_type": "code",
      "source": [
        "#int and float\n",
        "my_dict = {1: 'one', 2: 'two'}\n",
        "print(my_dict[1])\n",
        ""
      ],
      "metadata": {
        "colab": {
          "base_uri": "https://localhost:8080/"
        },
        "id": "9KmagmJZXg0V",
        "outputId": "3a08b491-bb62-43a0-83ce-2116fb4e355d"
      },
      "execution_count": 25,
      "outputs": [
        {
          "output_type": "stream",
          "name": "stdout",
          "text": [
            "one\n"
          ]
        }
      ]
    },
    {
      "cell_type": "code",
      "source": [],
      "metadata": {
        "id": "kn4bKGQEYIms"
      },
      "execution_count": null,
      "outputs": []
    }
  ]
}